{
 "cells": [
  {
   "cell_type": "markdown",
   "metadata": {},
   "source": [
    "# Facebook_Posts_Analysis"
   ]
  },
  {
   "cell_type": "code",
   "execution_count": 1,
   "metadata": {
    "scrolled": true
   },
   "outputs": [],
   "source": [
    "import requests\n",
    "import time\n",
    "import pickle\n",
    "import random\n",
    "import pandas as pd\n",
    "import os, sys\n",
    "import pprint\n",
    "import pandas as pd\n",
    "import string\n",
    "from operator import itemgetter\n",
    "import nltk\n",
    "import matplotlib\n",
    "pp = pprint.PrettyPrinter()\n",
    "\n",
    "#goalcast?fields=posts{comments.limit(0).summary(true),likes.limit(0).summary(true),message.limit(0).summary(true),created_time.limit(0).summary(true)}"
   ]
  },
  {
   "cell_type": "markdown",
   "metadata": {},
   "source": [
    " # Token for access to FB"
   ]
  },
  {
   "cell_type": "markdown",
   "metadata": {},
   "source": [
    "For Security reasons have masked the token"
   ]
  },
  {
   "cell_type": "code",
   "execution_count": 2,
   "metadata": {
    "collapsed": true,
    "scrolled": true
   },
   "outputs": [],
   "source": [
    "token = \"EAACEdEose0cBAICmwQZAnMCyGE55aG3JdTYyhEH8ZADLZAcu7bZBfkYTfbNjbPXDkvnclIyg3FscoeUDYb4fZAaXQCAO74VorZBaZBNTOjMZBS1ANJjsnhJ0BYTPomB6B5RLu9L8QPTZBrTHS2f9kCU9xyPTkgyZBwAtWYen4WPZBx7ECsXzNCFV6MFJjfwcbgMweAZD\""
   ]
  },
  {
   "cell_type": "markdown",
   "metadata": {},
   "source": [
    "# Function to Receive Raw Data"
   ]
  },
  {
   "cell_type": "code",
   "execution_count": 3,
   "metadata": {
    "collapsed": true,
    "scrolled": true
   },
   "outputs": [],
   "source": [
    "def req_facebook(req):\n",
    "    req_v = requests.get(\"https://graph.facebook.com/v2.12/\"+ req,{'access_token' : token})\n",
    "    return req_v"
   ]
  },
  {
   "cell_type": "markdown",
   "metadata": {},
   "source": [
    "Parsing and converting received the raw data"
   ]
  },
  {
   "cell_type": "code",
   "execution_count": 4,
   "metadata": {
    "scrolled": true
   },
   "outputs": [
    {
     "name": "stdout",
     "output_type": "stream",
     "text": [
      "Enter The request::goalcast?fields=posts{comments.limit(0).summary(true),likes.limit(0).summary(true),message.limit(0).summary(true),created_time.limit(0).summary(true)}\n",
      "1\n",
      "2\n",
      "3\n",
      "4\n",
      "5\n",
      "6\n",
      "7\n",
      "8\n",
      "9\n",
      "10\n",
      "11\n",
      "12\n",
      "13\n",
      "14\n",
      "15\n",
      "16\n",
      "17\n",
      "18\n",
      "19\n",
      "20\n",
      "21\n",
      "22\n",
      "23\n",
      "24\n",
      "25\n",
      "26\n",
      "27\n",
      "28\n",
      "29\n",
      "30\n",
      "31\n",
      "32\n",
      "33\n",
      "34\n",
      "35\n",
      "36\n",
      "37\n",
      "38\n",
      "39\n",
      "40\n",
      "41\n",
      "42\n",
      "43\n",
      "44\n",
      "45\n",
      "46\n",
      "47\n",
      "48\n",
      "49\n",
      "50\n",
      "51\n",
      "52\n",
      "53\n",
      "54\n",
      "55\n",
      "56\n",
      "57\n",
      "58\n",
      "59\n",
      "60\n",
      "61\n",
      "62\n",
      "63\n",
      "64\n",
      "65\n",
      "66\n",
      "67\n",
      "68\n",
      "69\n",
      "70\n",
      "71\n",
      "72\n",
      "73\n",
      "done\n"
     ]
    }
   ],
   "source": [
    "results = req_facebook(input(\"Enter The request::\")).json()\n",
    "#pp.pprint (results)\n",
    "results=results['posts']\n",
    "data =list()\n",
    "\n",
    "i=0\n",
    "while True:\n",
    "    try:\n",
    "        data.extend(results['data'])\n",
    "        r= requests.get(results['paging']['next'])\n",
    "        results = r.json()\n",
    "        i +=1\n",
    "        print (i)\n",
    "        if i > 200:\n",
    "            break\n",
    "    except:\n",
    "        print (\"done\")\n",
    "        break\n"
   ]
  },
  {
   "cell_type": "markdown",
   "metadata": {},
   "source": [
    "Storing the Raw Data into pickle file"
   ]
  },
  {
   "cell_type": "code",
   "execution_count": 5,
   "metadata": {
    "collapsed": true,
    "scrolled": true
   },
   "outputs": [],
   "source": [
    "#loading data\n",
    "pickle.dump(data,open(\"goalcast_final.pkl\",\"wb\"))"
   ]
  },
  {
   "cell_type": "code",
   "execution_count": 6,
   "metadata": {
    "collapsed": true,
    "scrolled": true
   },
   "outputs": [],
   "source": [
    "loaded_data = pickle.load(file = open(\"goalcast_final.pkl\",\"rb\"))"
   ]
  },
  {
   "cell_type": "markdown",
   "metadata": {},
   "source": [
    "# Putting raw data into Pandas DataFrame"
   ]
  },
  {
   "cell_type": "code",
   "execution_count": 7,
   "metadata": {
    "scrolled": true
   },
   "outputs": [
    {
     "data": {
      "text/html": [
       "<div>\n",
       "<style>\n",
       "    .dataframe thead tr:only-child th {\n",
       "        text-align: right;\n",
       "    }\n",
       "\n",
       "    .dataframe thead th {\n",
       "        text-align: left;\n",
       "    }\n",
       "\n",
       "    .dataframe tbody tr th {\n",
       "        vertical-align: top;\n",
       "    }\n",
       "</style>\n",
       "<table border=\"1\" class=\"dataframe\">\n",
       "  <thead>\n",
       "    <tr style=\"text-align: right;\">\n",
       "      <th></th>\n",
       "      <th>comments.data</th>\n",
       "      <th>comments.summary.can_comment</th>\n",
       "      <th>comments.summary.order</th>\n",
       "      <th>comments.summary.total_count</th>\n",
       "      <th>created_time</th>\n",
       "      <th>id</th>\n",
       "      <th>likes.data</th>\n",
       "      <th>likes.summary.can_like</th>\n",
       "      <th>likes.summary.has_liked</th>\n",
       "      <th>likes.summary.total_count</th>\n",
       "      <th>message</th>\n",
       "    </tr>\n",
       "  </thead>\n",
       "  <tbody>\n",
       "    <tr>\n",
       "      <th>0</th>\n",
       "      <td>[]</td>\n",
       "      <td>True</td>\n",
       "      <td>ranked</td>\n",
       "      <td>8</td>\n",
       "      <td>2018-03-20T03:00:00+0000</td>\n",
       "      <td>897393153671209_1783711528372696</td>\n",
       "      <td>[]</td>\n",
       "      <td>True</td>\n",
       "      <td>False</td>\n",
       "      <td>585</td>\n",
       "      <td>Check the top 3 life lessons from the Dalai La...</td>\n",
       "    </tr>\n",
       "    <tr>\n",
       "      <th>1</th>\n",
       "      <td>[]</td>\n",
       "      <td>True</td>\n",
       "      <td>ranked</td>\n",
       "      <td>7</td>\n",
       "      <td>2018-03-20T01:00:00+0000</td>\n",
       "      <td>897393153671209_1783937275016788</td>\n",
       "      <td>[]</td>\n",
       "      <td>True</td>\n",
       "      <td>False</td>\n",
       "      <td>597</td>\n",
       "      <td>It triggered a whole virtuous cycle</td>\n",
       "    </tr>\n",
       "    <tr>\n",
       "      <th>2</th>\n",
       "      <td>[]</td>\n",
       "      <td>True</td>\n",
       "      <td>ranked</td>\n",
       "      <td>13</td>\n",
       "      <td>2018-03-19T23:00:00+0000</td>\n",
       "      <td>897393153671209_1783938225016693</td>\n",
       "      <td>[]</td>\n",
       "      <td>True</td>\n",
       "      <td>False</td>\n",
       "      <td>561</td>\n",
       "      <td>It is a happiness to wonder; it is a happiness...</td>\n",
       "    </tr>\n",
       "    <tr>\n",
       "      <th>3</th>\n",
       "      <td>[]</td>\n",
       "      <td>True</td>\n",
       "      <td>ranked</td>\n",
       "      <td>100</td>\n",
       "      <td>2018-03-19T21:00:50+0000</td>\n",
       "      <td>897393153671209_1783949368348912</td>\n",
       "      <td>[]</td>\n",
       "      <td>True</td>\n",
       "      <td>False</td>\n",
       "      <td>2531</td>\n",
       "      <td>From victim to victor: How John Assaraf turned...</td>\n",
       "    </tr>\n",
       "    <tr>\n",
       "      <th>4</th>\n",
       "      <td>[]</td>\n",
       "      <td>True</td>\n",
       "      <td>ranked</td>\n",
       "      <td>48</td>\n",
       "      <td>2018-03-19T19:00:00+0000</td>\n",
       "      <td>897393153671209_1783731718370677</td>\n",
       "      <td>[]</td>\n",
       "      <td>True</td>\n",
       "      <td>False</td>\n",
       "      <td>862</td>\n",
       "      <td>Both Bill Gates and Jeff Bezos like to do hous...</td>\n",
       "    </tr>\n",
       "  </tbody>\n",
       "</table>\n",
       "</div>"
      ],
      "text/plain": [
       "  comments.data  comments.summary.can_comment comments.summary.order  \\\n",
       "0            []                          True                 ranked   \n",
       "1            []                          True                 ranked   \n",
       "2            []                          True                 ranked   \n",
       "3            []                          True                 ranked   \n",
       "4            []                          True                 ranked   \n",
       "\n",
       "   comments.summary.total_count              created_time  \\\n",
       "0                             8  2018-03-20T03:00:00+0000   \n",
       "1                             7  2018-03-20T01:00:00+0000   \n",
       "2                            13  2018-03-19T23:00:00+0000   \n",
       "3                           100  2018-03-19T21:00:50+0000   \n",
       "4                            48  2018-03-19T19:00:00+0000   \n",
       "\n",
       "                                 id likes.data  likes.summary.can_like  \\\n",
       "0  897393153671209_1783711528372696         []                    True   \n",
       "1  897393153671209_1783937275016788         []                    True   \n",
       "2  897393153671209_1783938225016693         []                    True   \n",
       "3  897393153671209_1783949368348912         []                    True   \n",
       "4  897393153671209_1783731718370677         []                    True   \n",
       "\n",
       "   likes.summary.has_liked  likes.summary.total_count  \\\n",
       "0                    False                        585   \n",
       "1                    False                        597   \n",
       "2                    False                        561   \n",
       "3                    False                       2531   \n",
       "4                    False                        862   \n",
       "\n",
       "                                             message  \n",
       "0  Check the top 3 life lessons from the Dalai La...  \n",
       "1                It triggered a whole virtuous cycle  \n",
       "2  It is a happiness to wonder; it is a happiness...  \n",
       "3  From victim to victor: How John Assaraf turned...  \n",
       "4  Both Bill Gates and Jeff Bezos like to do hous...  "
      ]
     },
     "execution_count": 7,
     "metadata": {},
     "output_type": "execute_result"
    }
   ],
   "source": [
    "df_main = pd.io.json.json_normalize(data=loaded_data)\n",
    "df_main.head()"
   ]
  },
  {
   "cell_type": "code",
   "execution_count": 8,
   "metadata": {},
   "outputs": [
    {
     "data": {
      "text/plain": [
       "Index(['comments.data', 'comments.summary.can_comment',\n",
       "       'comments.summary.order', 'comments.summary.total_count',\n",
       "       'created_time', 'id', 'likes.data', 'likes.summary.can_like',\n",
       "       'likes.summary.has_liked', 'likes.summary.total_count', 'message'],\n",
       "      dtype='object')"
      ]
     },
     "execution_count": 8,
     "metadata": {},
     "output_type": "execute_result"
    }
   ],
   "source": [
    "df_main.columns"
   ]
  },
  {
   "cell_type": "code",
   "execution_count": 9,
   "metadata": {
    "collapsed": true,
    "scrolled": true
   },
   "outputs": [],
   "source": [
    "df_dropped_columns = df_main.drop(['comments.data','comments.summary.can_comment','comments.summary.order','likes.data', 'likes.summary.can_like', 'likes.summary.has_liked'],1)"
   ]
  },
  {
   "cell_type": "code",
   "execution_count": 10,
   "metadata": {
    "collapsed": true,
    "scrolled": true
   },
   "outputs": [],
   "source": [
    "df_dropped_columns.rename(columns={\"comments.summary.total_count\" :\"com_Counts\", \"likes.summary.total_count\":\"like_Counts\"}, inplace = True)"
   ]
  },
  {
   "cell_type": "code",
   "execution_count": 11,
   "metadata": {
    "scrolled": true
   },
   "outputs": [
    {
     "data": {
      "text/html": [
       "<div>\n",
       "<style>\n",
       "    .dataframe thead tr:only-child th {\n",
       "        text-align: right;\n",
       "    }\n",
       "\n",
       "    .dataframe thead th {\n",
       "        text-align: left;\n",
       "    }\n",
       "\n",
       "    .dataframe tbody tr th {\n",
       "        vertical-align: top;\n",
       "    }\n",
       "</style>\n",
       "<table border=\"1\" class=\"dataframe\">\n",
       "  <thead>\n",
       "    <tr style=\"text-align: right;\">\n",
       "      <th></th>\n",
       "      <th>com_Counts</th>\n",
       "      <th>created_time</th>\n",
       "      <th>id</th>\n",
       "      <th>like_Counts</th>\n",
       "      <th>message</th>\n",
       "    </tr>\n",
       "  </thead>\n",
       "  <tbody>\n",
       "    <tr>\n",
       "      <th>0</th>\n",
       "      <td>8</td>\n",
       "      <td>2018-03-20T03:00:00+0000</td>\n",
       "      <td>897393153671209_1783711528372696</td>\n",
       "      <td>585</td>\n",
       "      <td>Check the top 3 life lessons from the Dalai La...</td>\n",
       "    </tr>\n",
       "    <tr>\n",
       "      <th>1</th>\n",
       "      <td>7</td>\n",
       "      <td>2018-03-20T01:00:00+0000</td>\n",
       "      <td>897393153671209_1783937275016788</td>\n",
       "      <td>597</td>\n",
       "      <td>It triggered a whole virtuous cycle</td>\n",
       "    </tr>\n",
       "    <tr>\n",
       "      <th>2</th>\n",
       "      <td>13</td>\n",
       "      <td>2018-03-19T23:00:00+0000</td>\n",
       "      <td>897393153671209_1783938225016693</td>\n",
       "      <td>561</td>\n",
       "      <td>It is a happiness to wonder; it is a happiness...</td>\n",
       "    </tr>\n",
       "    <tr>\n",
       "      <th>3</th>\n",
       "      <td>100</td>\n",
       "      <td>2018-03-19T21:00:50+0000</td>\n",
       "      <td>897393153671209_1783949368348912</td>\n",
       "      <td>2531</td>\n",
       "      <td>From victim to victor: How John Assaraf turned...</td>\n",
       "    </tr>\n",
       "    <tr>\n",
       "      <th>4</th>\n",
       "      <td>48</td>\n",
       "      <td>2018-03-19T19:00:00+0000</td>\n",
       "      <td>897393153671209_1783731718370677</td>\n",
       "      <td>862</td>\n",
       "      <td>Both Bill Gates and Jeff Bezos like to do hous...</td>\n",
       "    </tr>\n",
       "  </tbody>\n",
       "</table>\n",
       "</div>"
      ],
      "text/plain": [
       "   com_Counts              created_time                                id  \\\n",
       "0           8  2018-03-20T03:00:00+0000  897393153671209_1783711528372696   \n",
       "1           7  2018-03-20T01:00:00+0000  897393153671209_1783937275016788   \n",
       "2          13  2018-03-19T23:00:00+0000  897393153671209_1783938225016693   \n",
       "3         100  2018-03-19T21:00:50+0000  897393153671209_1783949368348912   \n",
       "4          48  2018-03-19T19:00:00+0000  897393153671209_1783731718370677   \n",
       "\n",
       "   like_Counts                                            message  \n",
       "0          585  Check the top 3 life lessons from the Dalai La...  \n",
       "1          597                It triggered a whole virtuous cycle  \n",
       "2          561  It is a happiness to wonder; it is a happiness...  \n",
       "3         2531  From victim to victor: How John Assaraf turned...  \n",
       "4          862  Both Bill Gates and Jeff Bezos like to do hous...  "
      ]
     },
     "execution_count": 11,
     "metadata": {},
     "output_type": "execute_result"
    }
   ],
   "source": [
    "df_dropped_columns.head()"
   ]
  },
  {
   "cell_type": "markdown",
   "metadata": {},
   "source": [
    "# Most Commented Post"
   ]
  },
  {
   "cell_type": "code",
   "execution_count": 12,
   "metadata": {
    "collapsed": true,
    "scrolled": true
   },
   "outputs": [],
   "source": [
    "goalcast_df = df_dropped_columns"
   ]
  },
  {
   "cell_type": "code",
   "execution_count": 13,
   "metadata": {
    "collapsed": true,
    "scrolled": true
   },
   "outputs": [],
   "source": [
    "top_comments = goalcast_df.sort_values('com_Counts',ascending= False)\n",
    "top_10 =top_comments.head(10)"
   ]
  },
  {
   "cell_type": "code",
   "execution_count": 14,
   "metadata": {
    "scrolled": true
   },
   "outputs": [
    {
     "name": "stdout",
     "output_type": "stream",
     "text": [
      "https://www.facebook.com/897393153671209_1371881936222326\n",
      "https://www.facebook.com/897393153671209_1585909778152873\n",
      "https://www.facebook.com/897393153671209_1644386875638496\n",
      "https://www.facebook.com/897393153671209_1533350906742094\n",
      "https://www.facebook.com/897393153671209_1601308876612963\n",
      "https://www.facebook.com/897393153671209_1281367035273817\n",
      "https://www.facebook.com/897393153671209_1743269045750278\n",
      "https://www.facebook.com/897393153671209_1530408390369679\n",
      "https://www.facebook.com/897393153671209_1572385972838587\n",
      "https://www.facebook.com/897393153671209_1654559554621228\n"
     ]
    }
   ],
   "source": [
    "top_10_ids = top_10['id']\n",
    "for i,x in top_10_ids.iteritems():\n",
    "    print (\"https://www.facebook.com/\"+x)"
   ]
  },
  {
   "cell_type": "markdown",
   "metadata": {},
   "source": [
    "# Most liked Post"
   ]
  },
  {
   "cell_type": "code",
   "execution_count": 15,
   "metadata": {
    "scrolled": false
   },
   "outputs": [
    {
     "name": "stdout",
     "output_type": "stream",
     "text": [
      "https://www.facebook.com/897393153671209_1601308876612963\n",
      "https://www.facebook.com/897393153671209_1585909778152873\n",
      "https://www.facebook.com/897393153671209_1533350906742094\n",
      "https://www.facebook.com/897393153671209_1530408390369679\n",
      "https://www.facebook.com/897393153671209_1510811738996011\n",
      "https://www.facebook.com/897393153671209_1371881936222326\n",
      "https://www.facebook.com/897393153671209_1292424704168050\n",
      "https://www.facebook.com/897393153671209_1654559554621228\n",
      "https://www.facebook.com/897393153671209_1548459668564551\n",
      "https://www.facebook.com/897393153671209_1572385972838587\n"
     ]
    }
   ],
   "source": [
    "top_likes = goalcast_df.sort_values('like_Counts',ascending= False)\n",
    "top_10_likes =top_likes.head(10)\n",
    "#print (top_10_likes)\n",
    "top_10_likes_ids = top_10_likes['id']\n",
    "for i,x in top_10_likes_ids.iteritems():\n",
    "    print (\"https://www.facebook.com/\"+x)"
   ]
  },
  {
   "cell_type": "markdown",
   "metadata": {},
   "source": [
    "\n",
    "# Fuction Removal of Digits, strings and stop words"
   ]
  },
  {
   "cell_type": "code",
   "execution_count": 16,
   "metadata": {
    "collapsed": true,
    "scrolled": true
   },
   "outputs": [],
   "source": [
    "import string\n",
    "import re\n",
    "p=string.punctuation+\"“\"+\"’\"+\"‘\"+\"”\"+\"😢\"\n",
    "d=string.digits\n",
    "\n",
    "def punc_digit(input_text):\n",
    "    table_p = str.maketrans(p, len(p) * \" \")\n",
    "    table_d = str.maketrans(d, len(d) * \" \")\n",
    "    after_punc = input_text.translate(table_p)\n",
    "    final = after_punc.translate(table_d)\n",
    "    return final\n",
    "\n",
    "\n",
    "stopwords = [\"a\",\"about\",\"above\",\"after\",\"again\",\"against\",\n",
    "                 \"all\",\"am\",\"an\",\"and\",\"any\",\"are\",\"aren't\",\n",
    "                 \"as\",\t\"at\",\t\"be\",\t\"because\",\t\"been\",\t\n",
    "                 \"before\",\t\"being\",\t\"below\",\t\"between\",\n",
    "                 \"both\",\t\"but\",\t\"by\",\t\"can't\",\t\"cannot\",\n",
    "                 \"could\",\t\"couldn't\",\t\"did\",\t\"didn't\",\t\"do\",\n",
    "                 \"does\",\t\"doesn't\",\t\"doing\",\t\"don't\",\"down\",\n",
    "                 \"during\",\t\"each\",\t\"few\",\t\"for\",\t\"from\",\t\"further\",\n",
    "                 \"had\",\t\"hadn't\",\t\"has\",\t\"hasn't\",\t\"have\",\n",
    "                 \"haven't\",\t\"having\",\t\"he\",\t\"he'd\",\t\"he'll\",\t\"he's\",\n",
    "                 \"her\",\t\"here\",\t\"here's\",\t\"hers\",\t\"herself\",\t\"him\",\t\"himself\",\n",
    "                 \"his\",\t\"how\",\t\"how's\",\t\"i\",\t\"i'd\",\t\"i'll\",\t\"i'm\",\n",
    "                 \"i've\",\t\"if\",\t\"in\",\t\"into\",\t\"is\",\t\"isn't\",\t\"it\",\n",
    "                 \"it's\",\t\"its\",\t\"itself\",\t\"let's\",\t\"me\",\t\"more\",\n",
    "                 \"most\",\t\"mustn't\",\t\"my\",\t\"myself\",\t\"no\",\t\"nor\",\n",
    "                 \"not\",\t\"of\",\t\"off\",\t\"on\",\t\"once\",\t\"only\",\t\"or\",\n",
    "                 \"other\",\t\"ought\",\t\"our\",\t\"ours\",\t\"ourselves\",\n",
    "                 \"out\",\t\"over\",\t\"own\",\t\"same\",\t\"shan't\",\t\"she\",\t\"she'd\"\n",
    "                 ,\t\"she'll\",\t\"she's\",\t\"should\",\t\"shouldn't\",\t\"so\",\n",
    "                 \"some\",\t\"such\",\t\"than\",\t\"that\",\t\"that's\",\t\"the\",\n",
    "                 \"their\",\t\"theirs\",\t\"them\",\t\"themselves\",\t\"then\",\n",
    "                 \"there\",\t\"there's\",\t\"these\",\t\"they\",\t\"they'd\",\n",
    "                 \"they'll\",\t\"they're\",\t\"they've\",\t\"this\",\t\"those\",\n",
    "                 \"through\",\t\"to\",\t\"too\",\t\"under\",\t\"until\",\t\"up\",\n",
    "                 \"very\",\t\"was\",\t\"wasn't\",\t\"we\",\t\"we'd\",\t\"we'll\",\n",
    "                 \"we're\",\t\"we've\",\t\"were\",\t\"weren't\",\t\"what\",\t\"what's\",\n",
    "                 \"when\",\t\"when's\",\t\"where\",\t\"where's\",\t\"which\",\n",
    "                 \"while\",\t\"who\",\t\"who's\",\t\"whom\",\t\"why\",\t\"why's\",\n",
    "                 \"with\",\t\"won't\",\t\"would\",\t\"wouldn't\",\t\"you\",\n",
    "                 \"you'd\",\t\"you'll\",\t\"you're\",\t\"you've\",\t\"your\",\t\"yours\",\t\"yourself\",\t\"yourselves\",\"s\",\"t\",\"nan\",\"one\"\n",
    " ]\n"
   ]
  },
  {
   "cell_type": "markdown",
   "metadata": {},
   "source": [
    "# Counts of Words"
   ]
  },
  {
   "cell_type": "code",
   "execution_count": 17,
   "metadata": {
    "collapsed": true,
    "scrolled": true
   },
   "outputs": [],
   "source": [
    "def word_counts(df):\n",
    "    words = dict()\n",
    "    lines = list()\n",
    "    for line in goalcast_df['message']:\n",
    "        line = str (line)\n",
    "        line = re.sub(r'http\\S+', '', line)\n",
    "        pd = punc_digit(line)\n",
    "        lines.append(pd)\n",
    "    \n",
    "    for l in lines:\n",
    "        for word in l.split():\n",
    "            word = word.strip()\n",
    "            word = word.lower()\n",
    "            if word not in stopwords:\n",
    "                if len(word) >= 3:\n",
    "                    if word in words:\n",
    "                        words[word] +=1\n",
    "                    else:\n",
    "                        words[word] = 1\n",
    "\n",
    "    return words\n"
   ]
  },
  {
   "cell_type": "code",
   "execution_count": 18,
   "metadata": {
    "collapsed": true,
    "scrolled": true
   },
   "outputs": [],
   "source": [
    "words2 = word_counts(goalcast_df)\n",
    "#words"
   ]
  },
  {
   "cell_type": "code",
   "execution_count": 19,
   "metadata": {
    "scrolled": true
   },
   "outputs": [
    {
     "data": {
      "text/html": [
       "<div>\n",
       "<style>\n",
       "    .dataframe thead tr:only-child th {\n",
       "        text-align: right;\n",
       "    }\n",
       "\n",
       "    .dataframe thead th {\n",
       "        text-align: left;\n",
       "    }\n",
       "\n",
       "    .dataframe tbody tr th {\n",
       "        vertical-align: top;\n",
       "    }\n",
       "</style>\n",
       "<table border=\"1\" class=\"dataframe\">\n",
       "  <thead>\n",
       "    <tr style=\"text-align: right;\">\n",
       "      <th></th>\n",
       "      <th>Words</th>\n",
       "      <th>Counts</th>\n",
       "    </tr>\n",
       "  </thead>\n",
       "  <tbody>\n",
       "    <tr>\n",
       "      <th>0</th>\n",
       "      <td>check</td>\n",
       "      <td>7</td>\n",
       "    </tr>\n",
       "    <tr>\n",
       "      <th>1</th>\n",
       "      <td>top</td>\n",
       "      <td>20</td>\n",
       "    </tr>\n",
       "    <tr>\n",
       "      <th>2</th>\n",
       "      <td>life</td>\n",
       "      <td>176</td>\n",
       "    </tr>\n",
       "    <tr>\n",
       "      <th>3</th>\n",
       "      <td>lessons</td>\n",
       "      <td>10</td>\n",
       "    </tr>\n",
       "    <tr>\n",
       "      <th>4</th>\n",
       "      <td>dalai</td>\n",
       "      <td>4</td>\n",
       "    </tr>\n",
       "  </tbody>\n",
       "</table>\n",
       "</div>"
      ],
      "text/plain": [
       "     Words  Counts\n",
       "0    check       7\n",
       "1      top      20\n",
       "2     life     176\n",
       "3  lessons      10\n",
       "4    dalai       4"
      ]
     },
     "execution_count": 19,
     "metadata": {},
     "output_type": "execute_result"
    }
   ],
   "source": [
    "#df = pd.DataFrame([(i, j) for i, j in words.items()], columns=[\"Words\", \"Counts\"])\n",
    "df_words= pd.DataFrame(list(words2.items()), columns = ['Words','Counts'])\n",
    "df_words.head()"
   ]
  },
  {
   "cell_type": "code",
   "execution_count": 20,
   "metadata": {
    "scrolled": true
   },
   "outputs": [
    {
     "data": {
      "text/html": [
       "<div>\n",
       "<style>\n",
       "    .dataframe thead tr:only-child th {\n",
       "        text-align: right;\n",
       "    }\n",
       "\n",
       "    .dataframe thead th {\n",
       "        text-align: left;\n",
       "    }\n",
       "\n",
       "    .dataframe tbody tr th {\n",
       "        vertical-align: top;\n",
       "    }\n",
       "</style>\n",
       "<table border=\"1\" class=\"dataframe\">\n",
       "  <thead>\n",
       "    <tr style=\"text-align: right;\">\n",
       "      <th></th>\n",
       "      <th>Words</th>\n",
       "      <th>Counts</th>\n",
       "    </tr>\n",
       "  </thead>\n",
       "  <tbody>\n",
       "    <tr>\n",
       "      <th>568</th>\n",
       "      <td>free</td>\n",
       "      <td>210</td>\n",
       "    </tr>\n",
       "    <tr>\n",
       "      <th>2</th>\n",
       "      <td>life</td>\n",
       "      <td>176</td>\n",
       "    </tr>\n",
       "    <tr>\n",
       "      <th>51</th>\n",
       "      <td>will</td>\n",
       "      <td>129</td>\n",
       "    </tr>\n",
       "    <tr>\n",
       "      <th>228</th>\n",
       "      <td>success</td>\n",
       "      <td>121</td>\n",
       "    </tr>\n",
       "    <tr>\n",
       "      <th>91</th>\n",
       "      <td>get</td>\n",
       "      <td>119</td>\n",
       "    </tr>\n",
       "    <tr>\n",
       "      <th>74</th>\n",
       "      <td>can</td>\n",
       "      <td>115</td>\n",
       "    </tr>\n",
       "    <tr>\n",
       "      <th>90</th>\n",
       "      <td>business</td>\n",
       "      <td>97</td>\n",
       "    </tr>\n",
       "    <tr>\n",
       "      <th>118</th>\n",
       "      <td>help</td>\n",
       "      <td>97</td>\n",
       "    </tr>\n",
       "    <tr>\n",
       "      <th>227</th>\n",
       "      <td>path</td>\n",
       "      <td>87</td>\n",
       "    </tr>\n",
       "    <tr>\n",
       "      <th>263</th>\n",
       "      <td>make</td>\n",
       "      <td>80</td>\n",
       "    </tr>\n",
       "    <tr>\n",
       "      <th>427</th>\n",
       "      <td>app</td>\n",
       "      <td>80</td>\n",
       "    </tr>\n",
       "    <tr>\n",
       "      <th>345</th>\n",
       "      <td>today</td>\n",
       "      <td>77</td>\n",
       "    </tr>\n",
       "    <tr>\n",
       "      <th>326</th>\n",
       "      <td>tool</td>\n",
       "      <td>77</td>\n",
       "    </tr>\n",
       "    <tr>\n",
       "      <th>151</th>\n",
       "      <td>want</td>\n",
       "      <td>76</td>\n",
       "    </tr>\n",
       "    <tr>\n",
       "      <th>569</th>\n",
       "      <td>sign</td>\n",
       "      <td>74</td>\n",
       "    </tr>\n",
       "    <tr>\n",
       "      <th>222</th>\n",
       "      <td>don</td>\n",
       "      <td>71</td>\n",
       "    </tr>\n",
       "    <tr>\n",
       "      <th>564</th>\n",
       "      <td>goalcast</td>\n",
       "      <td>63</td>\n",
       "    </tr>\n",
       "    <tr>\n",
       "      <th>58</th>\n",
       "      <td>just</td>\n",
       "      <td>56</td>\n",
       "    </tr>\n",
       "    <tr>\n",
       "      <th>437</th>\n",
       "      <td>people</td>\n",
       "      <td>52</td>\n",
       "    </tr>\n",
       "    <tr>\n",
       "      <th>137</th>\n",
       "      <td>world</td>\n",
       "      <td>49</td>\n",
       "    </tr>\n",
       "    <tr>\n",
       "      <th>566</th>\n",
       "      <td>spokes</td>\n",
       "      <td>47</td>\n",
       "    </tr>\n",
       "    <tr>\n",
       "      <th>126</th>\n",
       "      <td>live</td>\n",
       "      <td>46</td>\n",
       "    </tr>\n",
       "    <tr>\n",
       "      <th>2244</th>\n",
       "      <td>access</td>\n",
       "      <td>45</td>\n",
       "    </tr>\n",
       "    <tr>\n",
       "      <th>146</th>\n",
       "      <td>never</td>\n",
       "      <td>41</td>\n",
       "    </tr>\n",
       "    <tr>\n",
       "      <th>442</th>\n",
       "      <td>love</td>\n",
       "      <td>40</td>\n",
       "    </tr>\n",
       "    <tr>\n",
       "      <th>186</th>\n",
       "      <td>story</td>\n",
       "      <td>38</td>\n",
       "    </tr>\n",
       "    <tr>\n",
       "      <th>199</th>\n",
       "      <td>day</td>\n",
       "      <td>38</td>\n",
       "    </tr>\n",
       "    <tr>\n",
       "      <th>201</th>\n",
       "      <td>going</td>\n",
       "      <td>37</td>\n",
       "    </tr>\n",
       "    <tr>\n",
       "      <th>38</th>\n",
       "      <td>let</td>\n",
       "      <td>37</td>\n",
       "    </tr>\n",
       "    <tr>\n",
       "      <th>373</th>\n",
       "      <td>know</td>\n",
       "      <td>36</td>\n",
       "    </tr>\n",
       "    <tr>\n",
       "      <th>...</th>\n",
       "      <td>...</td>\n",
       "      <td>...</td>\n",
       "    </tr>\n",
       "    <tr>\n",
       "      <th>558</th>\n",
       "      <td>compassionate</td>\n",
       "      <td>1</td>\n",
       "    </tr>\n",
       "    <tr>\n",
       "      <th>552</th>\n",
       "      <td>button</td>\n",
       "      <td>1</td>\n",
       "    </tr>\n",
       "    <tr>\n",
       "      <th>551</th>\n",
       "      <td>francisco</td>\n",
       "      <td>1</td>\n",
       "    </tr>\n",
       "    <tr>\n",
       "      <th>1922</th>\n",
       "      <td>note</td>\n",
       "      <td>1</td>\n",
       "    </tr>\n",
       "    <tr>\n",
       "      <th>1907</th>\n",
       "      <td>fullest</td>\n",
       "      <td>1</td>\n",
       "    </tr>\n",
       "    <tr>\n",
       "      <th>1921</th>\n",
       "      <td>ballets</td>\n",
       "      <td>1</td>\n",
       "    </tr>\n",
       "    <tr>\n",
       "      <th>1920</th>\n",
       "      <td>babies</td>\n",
       "      <td>1</td>\n",
       "    </tr>\n",
       "    <tr>\n",
       "      <th>1918</th>\n",
       "      <td>strengthen</td>\n",
       "      <td>1</td>\n",
       "    </tr>\n",
       "    <tr>\n",
       "      <th>1917</th>\n",
       "      <td>stress</td>\n",
       "      <td>1</td>\n",
       "    </tr>\n",
       "    <tr>\n",
       "      <th>1916</th>\n",
       "      <td>reduce</td>\n",
       "      <td>1</td>\n",
       "    </tr>\n",
       "    <tr>\n",
       "      <th>1914</th>\n",
       "      <td>iconic</td>\n",
       "      <td>1</td>\n",
       "    </tr>\n",
       "    <tr>\n",
       "      <th>1913</th>\n",
       "      <td>student</td>\n",
       "      <td>1</td>\n",
       "    </tr>\n",
       "    <tr>\n",
       "      <th>1911</th>\n",
       "      <td>lennon</td>\n",
       "      <td>1</td>\n",
       "    </tr>\n",
       "    <tr>\n",
       "      <th>1910</th>\n",
       "      <td>baby</td>\n",
       "      <td>1</td>\n",
       "    </tr>\n",
       "    <tr>\n",
       "      <th>1909</th>\n",
       "      <td>mommy</td>\n",
       "      <td>1</td>\n",
       "    </tr>\n",
       "    <tr>\n",
       "      <th>1908</th>\n",
       "      <td>broader</td>\n",
       "      <td>1</td>\n",
       "    </tr>\n",
       "    <tr>\n",
       "      <th>1906</th>\n",
       "      <td>editing</td>\n",
       "      <td>1</td>\n",
       "    </tr>\n",
       "    <tr>\n",
       "      <th>1893</th>\n",
       "      <td>rubber</td>\n",
       "      <td>1</td>\n",
       "    </tr>\n",
       "    <tr>\n",
       "      <th>1905</th>\n",
       "      <td>gehrig</td>\n",
       "      <td>1</td>\n",
       "    </tr>\n",
       "    <tr>\n",
       "      <th>1904</th>\n",
       "      <td>tackling</td>\n",
       "      <td>1</td>\n",
       "    </tr>\n",
       "    <tr>\n",
       "      <th>1903</th>\n",
       "      <td>scientists</td>\n",
       "      <td>1</td>\n",
       "    </tr>\n",
       "    <tr>\n",
       "      <th>1901</th>\n",
       "      <td>california</td>\n",
       "      <td>1</td>\n",
       "    </tr>\n",
       "    <tr>\n",
       "      <th>1900</th>\n",
       "      <td>intensive</td>\n",
       "      <td>1</td>\n",
       "    </tr>\n",
       "    <tr>\n",
       "      <th>1899</th>\n",
       "      <td>emerged</td>\n",
       "      <td>1</td>\n",
       "    </tr>\n",
       "    <tr>\n",
       "      <th>1898</th>\n",
       "      <td>recently</td>\n",
       "      <td>1</td>\n",
       "    </tr>\n",
       "    <tr>\n",
       "      <th>1897</th>\n",
       "      <td>therapy</td>\n",
       "      <td>1</td>\n",
       "    </tr>\n",
       "    <tr>\n",
       "      <th>550</th>\n",
       "      <td>rudy</td>\n",
       "      <td>1</td>\n",
       "    </tr>\n",
       "    <tr>\n",
       "      <th>1895</th>\n",
       "      <td>major</td>\n",
       "      <td>1</td>\n",
       "    </tr>\n",
       "    <tr>\n",
       "      <th>1894</th>\n",
       "      <td>latest</td>\n",
       "      <td>1</td>\n",
       "    </tr>\n",
       "    <tr>\n",
       "      <th>3295</th>\n",
       "      <td>warning</td>\n",
       "      <td>1</td>\n",
       "    </tr>\n",
       "  </tbody>\n",
       "</table>\n",
       "<p>3296 rows × 2 columns</p>\n",
       "</div>"
      ],
      "text/plain": [
       "              Words  Counts\n",
       "568            free     210\n",
       "2              life     176\n",
       "51             will     129\n",
       "228         success     121\n",
       "91              get     119\n",
       "74              can     115\n",
       "90         business      97\n",
       "118            help      97\n",
       "227            path      87\n",
       "263            make      80\n",
       "427             app      80\n",
       "345           today      77\n",
       "326            tool      77\n",
       "151            want      76\n",
       "569            sign      74\n",
       "222             don      71\n",
       "564        goalcast      63\n",
       "58             just      56\n",
       "437          people      52\n",
       "137           world      49\n",
       "566          spokes      47\n",
       "126            live      46\n",
       "2244         access      45\n",
       "146           never      41\n",
       "442            love      40\n",
       "186           story      38\n",
       "199             day      38\n",
       "201           going      37\n",
       "38              let      37\n",
       "373            know      36\n",
       "...             ...     ...\n",
       "558   compassionate       1\n",
       "552          button       1\n",
       "551       francisco       1\n",
       "1922           note       1\n",
       "1907        fullest       1\n",
       "1921        ballets       1\n",
       "1920         babies       1\n",
       "1918     strengthen       1\n",
       "1917         stress       1\n",
       "1916         reduce       1\n",
       "1914         iconic       1\n",
       "1913        student       1\n",
       "1911         lennon       1\n",
       "1910           baby       1\n",
       "1909          mommy       1\n",
       "1908        broader       1\n",
       "1906        editing       1\n",
       "1893         rubber       1\n",
       "1905         gehrig       1\n",
       "1904       tackling       1\n",
       "1903     scientists       1\n",
       "1901     california       1\n",
       "1900      intensive       1\n",
       "1899        emerged       1\n",
       "1898       recently       1\n",
       "1897        therapy       1\n",
       "550            rudy       1\n",
       "1895          major       1\n",
       "1894         latest       1\n",
       "3295        warning       1\n",
       "\n",
       "[3296 rows x 2 columns]"
      ]
     },
     "execution_count": 20,
     "metadata": {},
     "output_type": "execute_result"
    }
   ],
   "source": [
    "sorted_words =df_words.sort_values('Counts', ascending=False)\n",
    "sorted_words"
   ]
  },
  {
   "cell_type": "code",
   "execution_count": 21,
   "metadata": {},
   "outputs": [
    {
     "data": {
      "text/plain": [
       "<matplotlib.axes._subplots.AxesSubplot at 0x1e2edccdd68>"
      ]
     },
     "execution_count": 21,
     "metadata": {},
     "output_type": "execute_result"
    },
    {
     "data": {
      "image/png": "[encoded data removed]",
      "text/plain": [
       "<matplotlib.figure.Figure at 0x1e2edccd0f0>"
      ]
     },
     "metadata": {},
     "output_type": "display_data"
    }
   ],
   "source": [
    "%matplotlib inline\n",
    "sorted_words[sorted_words['Counts'] > 60].plot(x='Words', kind = 'Bar')"
   ]
  },
  {
   "cell_type": "markdown",
   "metadata": {},
   "source": [
    "# Stemming"
   ]
  },
  {
   "cell_type": "code",
   "execution_count": 22,
   "metadata": {
    "scrolled": true
   },
   "outputs": [],
   "source": [
    "from nltk.stem.porter import PorterStemmer\n",
    "ps = PorterStemmer()\n",
    "words1 = list()\n",
    "\n",
    "for k in df_words['Words']:\n",
    "    words1.append(k)\n",
    "    \n",
    "\n",
    "words2 =list()\n",
    "\n",
    "for word in words1:\n",
    "    words2.append(ps.stem(word))\n",
    "    \n"
   ]
  },
  {
   "cell_type": "markdown",
   "metadata": {},
   "source": [
    "# Count of Positve and Negative words"
   ]
  },
  {
   "cell_type": "markdown",
   "metadata": {},
   "source": [
    "The list of positive and negative words are from following paper\n",
    "\"   Minqing Hu and Bing Liu. \"Mining and Summarizing Customer Reviews.\" \n",
    "       Proceedings of the ACM SIGKDD International Conference on Knowledge \n",
    "       Discovery and Data Mining (KDD-2004), Aug 22-25, 2004, Seattle, \n",
    "       Washington, USA, \""
   ]
  },
  {
   "cell_type": "code",
   "execution_count": 23,
   "metadata": {
    "collapsed": true
   },
   "outputs": [],
   "source": [
    "infile = open(\"C:/Users/Darshit/Desktop/Sem 4/jg_ch20_text_mining/0_notebooks/positive_words.txt\", \"r\")\n",
    "text = infile.read()"
   ]
  },
  {
   "cell_type": "code",
   "execution_count": 24,
   "metadata": {
    "collapsed": true
   },
   "outputs": [],
   "source": [
    "pos_words = []\n",
    "for pw in text.split(\"\\n\"):\n",
    "    pos_words.append(pw)"
   ]
  },
  {
   "cell_type": "code",
   "execution_count": 25,
   "metadata": {
    "collapsed": true
   },
   "outputs": [],
   "source": [
    "infile1 = open(\"C:/Users/Darshit/Desktop/Sem 4/jg_ch20_text_mining/0_notebooks/negative_words.txt\", \"r\")\n",
    "text1 = infile1.read()"
   ]
  },
  {
   "cell_type": "code",
   "execution_count": 26,
   "metadata": {
    "collapsed": true
   },
   "outputs": [],
   "source": [
    "neg_words = []\n",
    "for nw in text1.split(\"\\n\"):\n",
    "    neg_words.append(pw)"
   ]
  },
  {
   "cell_type": "code",
   "execution_count": 27,
   "metadata": {},
   "outputs": [],
   "source": [
    "dict_p = dict()\n",
    "dict_n = dict()\n",
    "for w in words2:\n",
    "    if w in pos_words:\n",
    "        #print(w)\n",
    "        if w in dict_p:\n",
    "            dict_p[w] +=1\n",
    "        else:\n",
    "            dict_p[w] = 1\n",
    "    elif w in neg_words:\n",
    "        print (w)\n",
    "        if w in dict_n:\n",
    "            dict_n[w] +=1\n",
    "        else:\n",
    "            dict_p[w] = 1\n",
    "            \n",
    "            "
   ]
  },
  {
   "cell_type": "code",
   "execution_count": 28,
   "metadata": {
    "collapsed": true
   },
   "outputs": [],
   "source": [
    "df_pos = pd.DataFrame(list(dict_p.items()), columns = ['Pos_Word','Count'])"
   ]
  },
  {
   "cell_type": "code",
   "execution_count": 29,
   "metadata": {},
   "outputs": [],
   "source": [
    "sorted_pos_words =df_pos.sort_values('Count', ascending=False)\n",
    "top_10_pos_words =sorted_pos_words.head(10)"
   ]
  },
  {
   "cell_type": "code",
   "execution_count": 30,
   "metadata": {},
   "outputs": [
    {
     "data": {
      "text/plain": [
       "<matplotlib.axes._subplots.AxesSubplot at 0x1e2ed402668>"
      ]
     },
     "execution_count": 30,
     "metadata": {},
     "output_type": "execute_result"
    },
    {
     "data": {
      "image/png": "[encoded data removed]",
      "text/plain": [
       "<matplotlib.figure.Figure at 0x1e2ee221e10>"
      ]
     },
     "metadata": {},
     "output_type": "display_data"
    }
   ],
   "source": [
    "%matplotlib inline\n",
    "top_10_pos_words.plot(x='Pos_Word', kind = 'Bar')"
   ]
  },
  {
   "cell_type": "markdown",
   "metadata": {},
   "source": [
    "# Sentimental Analysis of the Words"
   ]
  },
  {
   "cell_type": "code",
   "execution_count": 31,
   "metadata": {
    "collapsed": true
   },
   "outputs": [],
   "source": [
    "from textblob import TextBlob\n",
    "\n",
    "message = dict()\n",
    "\n",
    "for line in goalcast_df['message']:\n",
    "    line = str(line)\n",
    "\n",
    "    tb_pos = TextBlob(line)\n",
    "    message[line] = [tb_pos.subjectivity,tb_pos.polarity]\n",
    "    #    print (tb_pos)\n",
    "    #    print(tb_pos.sentiment)\n",
    "    #    print(tb_pos.polarity)\n",
    "    #    print(tb_pos.subjectivity)\n"
   ]
  },
  {
   "cell_type": "code",
   "execution_count": 32,
   "metadata": {},
   "outputs": [
    {
     "data": {
      "text/html": [
       "<div>\n",
       "<style>\n",
       "    .dataframe thead tr:only-child th {\n",
       "        text-align: right;\n",
       "    }\n",
       "\n",
       "    .dataframe thead th {\n",
       "        text-align: left;\n",
       "    }\n",
       "\n",
       "    .dataframe tbody tr th {\n",
       "        vertical-align: top;\n",
       "    }\n",
       "</style>\n",
       "<table border=\"1\" class=\"dataframe\">\n",
       "  <thead>\n",
       "    <tr style=\"text-align: right;\">\n",
       "      <th></th>\n",
       "      <th>Line</th>\n",
       "      <th>Subjectivity</th>\n",
       "      <th>Polarity</th>\n",
       "    </tr>\n",
       "  </thead>\n",
       "  <tbody>\n",
       "    <tr>\n",
       "      <th>0</th>\n",
       "      <td>Check the top 3 life lessons from the Dalai La...</td>\n",
       "      <td>0.750000</td>\n",
       "      <td>0.3000</td>\n",
       "    </tr>\n",
       "    <tr>\n",
       "      <th>1</th>\n",
       "      <td>It triggered a whole virtuous cycle</td>\n",
       "      <td>0.400000</td>\n",
       "      <td>0.2000</td>\n",
       "    </tr>\n",
       "    <tr>\n",
       "      <th>2</th>\n",
       "      <td>It is a happiness to wonder; it is a happiness...</td>\n",
       "      <td>0.200000</td>\n",
       "      <td>0.7000</td>\n",
       "    </tr>\n",
       "    <tr>\n",
       "      <th>3</th>\n",
       "      <td>From victim to victor: How John Assaraf turned...</td>\n",
       "      <td>0.203571</td>\n",
       "      <td>-0.0375</td>\n",
       "    </tr>\n",
       "    <tr>\n",
       "      <th>4</th>\n",
       "      <td>Both Bill Gates and Jeff Bezos like to do hous...</td>\n",
       "      <td>0.000000</td>\n",
       "      <td>0.0000</td>\n",
       "    </tr>\n",
       "  </tbody>\n",
       "</table>\n",
       "</div>"
      ],
      "text/plain": [
       "                                                Line  Subjectivity  Polarity\n",
       "0  Check the top 3 life lessons from the Dalai La...      0.750000    0.3000\n",
       "1                It triggered a whole virtuous cycle      0.400000    0.2000\n",
       "2  It is a happiness to wonder; it is a happiness...      0.200000    0.7000\n",
       "3  From victim to victor: How John Assaraf turned...      0.203571   -0.0375\n",
       "4  Both Bill Gates and Jeff Bezos like to do hous...      0.000000    0.0000"
      ]
     },
     "execution_count": 32,
     "metadata": {},
     "output_type": "execute_result"
    }
   ],
   "source": [
    "#df_message = pd.DataFrame(list(message.items()))\\\n",
    "df_message = pd.DataFrame([(i,j[0],j[1]) for i, j in message.items() ], columns=[\"Line\", \"Subjectivity\", \"Polarity\"])\n",
    "df_message.dropna(axis=0)\n",
    "df_message.head()"
   ]
  },
  {
   "cell_type": "code",
   "execution_count": 33,
   "metadata": {},
   "outputs": [
    {
     "data": {
      "image/png": "[encoded data removed]",
      "text/plain": [
       "<matplotlib.figure.Figure at 0x1e2ee854048>"
      ]
     },
     "metadata": {},
     "output_type": "display_data"
    }
   ],
   "source": [
    "import matplotlib.pyplot as plt\n",
    "\n",
    "plt.hist(df_message['Subjectivity'], bins=10) #, normed=1, alpha=0.75)\n",
    "plt.xlabel('Subjectivity score')\n",
    "plt.ylabel('sentence count')\n",
    "plt.grid(True)\n",
    "#plt.savefig('subjectivity.pdf')\n",
    "plt.show()"
   ]
  },
  {
   "cell_type": "code",
   "execution_count": 34,
   "metadata": {},
   "outputs": [
    {
     "data": {
      "image/png": "[encoded data removed]",
      "text/plain": [
       "<matplotlib.figure.Figure at 0x1e2ee838668>"
      ]
     },
     "metadata": {},
     "output_type": "display_data"
    }
   ],
   "source": [
    "import matplotlib.pyplot as plt\n",
    "\n",
    "plt.hist(df_message['Polarity'], bins=10) #, normed=1, alpha=0.75)\n",
    "plt.xlabel('Polarity score')\n",
    "plt.ylabel('sentence count')\n",
    "plt.grid(True)\n",
    "#plt.savefig('subjectivity.pdf')\n",
    "plt.show()"
   ]
  },
  {
   "cell_type": "markdown",
   "metadata": {},
   "source": [
    "# Word_Cloud"
   ]
  },
  {
   "cell_type": "code",
   "execution_count": 35,
   "metadata": {
    "scrolled": false
   },
   "outputs": [
    {
     "data": {
      "image/png": "[encoded data removed]",
      "text/plain": [
       "<matplotlib.figure.Figure at 0x1e2ee7c3cc0>"
      ]
     },
     "metadata": {},
     "output_type": "display_data"
    }
   ],
   "source": [
    "from wordcloud import WordCloud\n",
    "import matplotlib.pyplot as plt\n",
    "#stopwords = nltk.corpus.stopwords.words('english')\n",
    "\n",
    "wordcloud2 = WordCloud().generate(\" \".join(words2))\n",
    "#plt.imshow(wordcloud2)\n",
    "#plt.axis('off')\n",
    "wordcloud2 = WordCloud(max_font_size=40).generate(\" \".join(words2))\n",
    "plt.figure()\n",
    "plt.imshow(wordcloud2)\n",
    "plt.axis('off')\n",
    "plt.show()\n"
   ]
  },
  {
   "cell_type": "code",
   "execution_count": null,
   "metadata": {
    "collapsed": true
   },
   "outputs": [],
   "source": []
  }
 ],
 "metadata": {
  "kernelspec": {
   "display_name": "Python 3",
   "language": "python",
   "name": "python3"
  },
  "language_info": {
   "codemirror_mode": {
    "name": "ipython",
    "version": 3
   },
   "file_extension": ".py",
   "mimetype": "text/x-python",
   "name": "python",
   "nbconvert_exporter": "python",
   "pygments_lexer": "ipython3",
   "version": "3.6.3"
  }
 },
 "nbformat": 4,
 "nbformat_minor": 2
}
